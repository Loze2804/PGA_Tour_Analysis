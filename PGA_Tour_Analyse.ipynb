{
 "cells": [
  {
   "cell_type": "code",
   "execution_count": 1,
   "id": "2d4ba115",
   "metadata": {},
   "outputs": [],
   "source": [
    "import pandas as pd\n",
    "import numpy as np\n",
    "import matplotlib.pyplot as plt\n",
    "%matplotlib inline\n",
    "import seaborn as sns"
   ]
  },
  {
   "cell_type": "code",
   "execution_count": 2,
   "id": "c94c2ba2",
   "metadata": {},
   "outputs": [],
   "source": [
    "# read data into DataFrame\n",
    "data = pd.read_csv('PGA_Raw_Data_2017-2022.csv')\n",
    "data = data.drop(['hole_DKP', 'hole_FDP', 'hole_SDP', \n",
    "                  'streak_DKP', 'streak_FDP', 'streak_SDP', \n",
    "                  'n_rounds', 'finish_DKP', 'finish_FDP', \n",
    "                  'finish_SDP', 'total_DKP', 'total_FDP', \n",
    "                  'total_SDP', 'Unnamed: 2', 'Unnamed: 3', \n",
    "                  'Unnamed: 4', 'purse', 'no_cut'],\n",
    "                 axis=1\n",
    "                );  # the semicolon supresses output, w/o it the df would be printed here"
   ]
  },
  {
   "cell_type": "code",
   "execution_count": 3,
   "id": "4e9bf901-ff06-4e7a-b4d0-1fdcc1a5b3ec",
   "metadata": {},
   "outputs": [
    {
     "data": {
      "text/html": [
       "<div>\n",
       "<style scoped>\n",
       "    .dataframe tbody tr th:only-of-type {\n",
       "        vertical-align: middle;\n",
       "    }\n",
       "\n",
       "    .dataframe tbody tr th {\n",
       "        vertical-align: top;\n",
       "    }\n",
       "\n",
       "    .dataframe thead th {\n",
       "        text-align: right;\n",
       "    }\n",
       "</style>\n",
       "<table border=\"1\" class=\"dataframe\">\n",
       "  <thead>\n",
       "    <tr style=\"text-align: right;\">\n",
       "      <th></th>\n",
       "      <th>Player_initial_last</th>\n",
       "      <th>tournament id</th>\n",
       "      <th>player id</th>\n",
       "      <th>hole_par</th>\n",
       "      <th>strokes</th>\n",
       "      <th>made_cut</th>\n",
       "      <th>pos</th>\n",
       "      <th>player</th>\n",
       "      <th>tournament name</th>\n",
       "      <th>course</th>\n",
       "      <th>date</th>\n",
       "      <th>season</th>\n",
       "      <th>Finish</th>\n",
       "      <th>sg_putt</th>\n",
       "      <th>sg_arg</th>\n",
       "      <th>sg_app</th>\n",
       "      <th>sg_ott</th>\n",
       "      <th>sg_t2g</th>\n",
       "      <th>sg_total</th>\n",
       "    </tr>\n",
       "  </thead>\n",
       "  <tbody>\n",
       "    <tr>\n",
       "      <th>0</th>\n",
       "      <td>A. Ancer</td>\n",
       "      <td>401353224</td>\n",
       "      <td>9261</td>\n",
       "      <td>288</td>\n",
       "      <td>289</td>\n",
       "      <td>1</td>\n",
       "      <td>32.0</td>\n",
       "      <td>Abraham Ancer</td>\n",
       "      <td>The Memorial Tournament pres. by Nationwide</td>\n",
       "      <td>Muirfield Village Golf Club - Dublin, OH</td>\n",
       "      <td>2022-06-05</td>\n",
       "      <td>2022</td>\n",
       "      <td>T32</td>\n",
       "      <td>0.20</td>\n",
       "      <td>-0.13</td>\n",
       "      <td>-0.08</td>\n",
       "      <td>0.86</td>\n",
       "      <td>0.65</td>\n",
       "      <td>0.85</td>\n",
       "    </tr>\n",
       "    <tr>\n",
       "      <th>1</th>\n",
       "      <td>A. Hadwin</td>\n",
       "      <td>401353224</td>\n",
       "      <td>5548</td>\n",
       "      <td>288</td>\n",
       "      <td>286</td>\n",
       "      <td>1</td>\n",
       "      <td>18.0</td>\n",
       "      <td>Adam Hadwin</td>\n",
       "      <td>The Memorial Tournament pres. by Nationwide</td>\n",
       "      <td>Muirfield Village Golf Club - Dublin, OH</td>\n",
       "      <td>2022-06-05</td>\n",
       "      <td>2022</td>\n",
       "      <td>T18</td>\n",
       "      <td>0.36</td>\n",
       "      <td>0.75</td>\n",
       "      <td>0.31</td>\n",
       "      <td>0.18</td>\n",
       "      <td>1.24</td>\n",
       "      <td>1.60</td>\n",
       "    </tr>\n",
       "    <tr>\n",
       "      <th>2</th>\n",
       "      <td>A. Lahiri</td>\n",
       "      <td>401353224</td>\n",
       "      <td>4989</td>\n",
       "      <td>144</td>\n",
       "      <td>147</td>\n",
       "      <td>0</td>\n",
       "      <td>NaN</td>\n",
       "      <td>Anirban Lahiri</td>\n",
       "      <td>The Memorial Tournament pres. by Nationwide</td>\n",
       "      <td>Muirfield Village Golf Club - Dublin, OH</td>\n",
       "      <td>2022-06-05</td>\n",
       "      <td>2022</td>\n",
       "      <td>CUT</td>\n",
       "      <td>-0.56</td>\n",
       "      <td>0.74</td>\n",
       "      <td>-1.09</td>\n",
       "      <td>0.37</td>\n",
       "      <td>0.02</td>\n",
       "      <td>-0.54</td>\n",
       "    </tr>\n",
       "  </tbody>\n",
       "</table>\n",
       "</div>"
      ],
      "text/plain": [
       "  Player_initial_last  tournament id  player id  hole_par  strokes  made_cut  \\\n",
       "0            A. Ancer      401353224       9261       288      289         1   \n",
       "1           A. Hadwin      401353224       5548       288      286         1   \n",
       "2           A. Lahiri      401353224       4989       144      147         0   \n",
       "\n",
       "    pos          player                              tournament name  \\\n",
       "0  32.0   Abraham Ancer  The Memorial Tournament pres. by Nationwide   \n",
       "1  18.0     Adam Hadwin  The Memorial Tournament pres. by Nationwide   \n",
       "2   NaN  Anirban Lahiri  The Memorial Tournament pres. by Nationwide   \n",
       "\n",
       "                                     course        date  season Finish  \\\n",
       "0  Muirfield Village Golf Club - Dublin, OH  2022-06-05    2022    T32   \n",
       "1  Muirfield Village Golf Club - Dublin, OH  2022-06-05    2022    T18   \n",
       "2  Muirfield Village Golf Club - Dublin, OH  2022-06-05    2022    CUT   \n",
       "\n",
       "   sg_putt  sg_arg  sg_app  sg_ott  sg_t2g  sg_total  \n",
       "0     0.20   -0.13   -0.08    0.86    0.65      0.85  \n",
       "1     0.36    0.75    0.31    0.18    1.24      1.60  \n",
       "2    -0.56    0.74   -1.09    0.37    0.02     -0.54  "
      ]
     },
     "execution_count": 3,
     "metadata": {},
     "output_type": "execute_result"
    }
   ],
   "source": [
    "# take a look at the data\n",
    "data.head(3)"
   ]
  },
  {
   "cell_type": "markdown",
   "id": "4ddf09c6-b462-406b-a7c9-b0104134aa0a",
   "metadata": {},
   "source": [
    "Some columns like 'tournament name' contain white spaces, which would make working with them later on harder, so we will fix this.  \n",
    "And just to be more consistent every column name will be lower case."
   ]
  },
  {
   "cell_type": "code",
   "execution_count": 4,
   "id": "2ea4ee51-f866-4a68-bb28-c95865d0f680",
   "metadata": {},
   "outputs": [
    {
     "data": {
      "text/html": [
       "<div>\n",
       "<style scoped>\n",
       "    .dataframe tbody tr th:only-of-type {\n",
       "        vertical-align: middle;\n",
       "    }\n",
       "\n",
       "    .dataframe tbody tr th {\n",
       "        vertical-align: top;\n",
       "    }\n",
       "\n",
       "    .dataframe thead th {\n",
       "        text-align: right;\n",
       "    }\n",
       "</style>\n",
       "<table border=\"1\" class=\"dataframe\">\n",
       "  <thead>\n",
       "    <tr style=\"text-align: right;\">\n",
       "      <th></th>\n",
       "      <th>player_initial_last</th>\n",
       "      <th>tournament_id</th>\n",
       "      <th>player_id</th>\n",
       "      <th>hole_par</th>\n",
       "      <th>strokes</th>\n",
       "      <th>made_cut</th>\n",
       "      <th>pos</th>\n",
       "      <th>player</th>\n",
       "      <th>tournament_name</th>\n",
       "      <th>course</th>\n",
       "      <th>date</th>\n",
       "      <th>season</th>\n",
       "      <th>finish</th>\n",
       "      <th>sg_putt</th>\n",
       "      <th>sg_arg</th>\n",
       "      <th>sg_app</th>\n",
       "      <th>sg_ott</th>\n",
       "      <th>sg_t2g</th>\n",
       "      <th>sg_total</th>\n",
       "    </tr>\n",
       "  </thead>\n",
       "  <tbody>\n",
       "    <tr>\n",
       "      <th>0</th>\n",
       "      <td>A. Ancer</td>\n",
       "      <td>401353224</td>\n",
       "      <td>9261</td>\n",
       "      <td>288</td>\n",
       "      <td>289</td>\n",
       "      <td>1</td>\n",
       "      <td>32.0</td>\n",
       "      <td>Abraham Ancer</td>\n",
       "      <td>The Memorial Tournament pres. by Nationwide</td>\n",
       "      <td>Muirfield Village Golf Club - Dublin, OH</td>\n",
       "      <td>2022-06-05</td>\n",
       "      <td>2022</td>\n",
       "      <td>T32</td>\n",
       "      <td>0.20</td>\n",
       "      <td>-0.13</td>\n",
       "      <td>-0.08</td>\n",
       "      <td>0.86</td>\n",
       "      <td>0.65</td>\n",
       "      <td>0.85</td>\n",
       "    </tr>\n",
       "    <tr>\n",
       "      <th>1</th>\n",
       "      <td>A. Hadwin</td>\n",
       "      <td>401353224</td>\n",
       "      <td>5548</td>\n",
       "      <td>288</td>\n",
       "      <td>286</td>\n",
       "      <td>1</td>\n",
       "      <td>18.0</td>\n",
       "      <td>Adam Hadwin</td>\n",
       "      <td>The Memorial Tournament pres. by Nationwide</td>\n",
       "      <td>Muirfield Village Golf Club - Dublin, OH</td>\n",
       "      <td>2022-06-05</td>\n",
       "      <td>2022</td>\n",
       "      <td>T18</td>\n",
       "      <td>0.36</td>\n",
       "      <td>0.75</td>\n",
       "      <td>0.31</td>\n",
       "      <td>0.18</td>\n",
       "      <td>1.24</td>\n",
       "      <td>1.60</td>\n",
       "    </tr>\n",
       "  </tbody>\n",
       "</table>\n",
       "</div>"
      ],
      "text/plain": [
       "  player_initial_last  tournament_id  player_id  hole_par  strokes  made_cut  \\\n",
       "0            A. Ancer      401353224       9261       288      289         1   \n",
       "1           A. Hadwin      401353224       5548       288      286         1   \n",
       "\n",
       "    pos         player                              tournament_name  \\\n",
       "0  32.0  Abraham Ancer  The Memorial Tournament pres. by Nationwide   \n",
       "1  18.0    Adam Hadwin  The Memorial Tournament pres. by Nationwide   \n",
       "\n",
       "                                     course        date  season finish  \\\n",
       "0  Muirfield Village Golf Club - Dublin, OH  2022-06-05    2022    T32   \n",
       "1  Muirfield Village Golf Club - Dublin, OH  2022-06-05    2022    T18   \n",
       "\n",
       "   sg_putt  sg_arg  sg_app  sg_ott  sg_t2g  sg_total  \n",
       "0     0.20   -0.13   -0.08    0.86    0.65      0.85  \n",
       "1     0.36    0.75    0.31    0.18    1.24      1.60  "
      ]
     },
     "execution_count": 4,
     "metadata": {},
     "output_type": "execute_result"
    }
   ],
   "source": [
    "new_names = {\n",
    "    'Player_initial_last':'player_initial_last', \n",
    "    'tournament id':'tournament_id', \n",
    "    'player id':'player_id', \n",
    "    'tournament name': 'tournament_name', \n",
    "    'Finish':'finish'}\n",
    "\n",
    "data.rename(columns=new_names, inplace=True)\n",
    "\n",
    "data.head(2)"
   ]
  },
  {
   "cell_type": "markdown",
   "id": "b13a185f-753e-4c54-9441-e201b755f2c3",
   "metadata": {
    "tags": []
   },
   "source": [
    "## Data Understanding\n",
    "\n",
    "**player_initial_last**  \n",
    "Initial of the players first name and their full last name.  \n",
    "**tournament_id**  \n",
    "Unique id for each tournament.  \n",
    "**player_id**  \n",
    "Unique id for each player.  \n",
    "**hole_par**  \n",
    "Number of strokes to score a par overall.  \n",
    "**strokes**  \n",
    "Number of strokes the player needed for the tournament.  \n",
    "**made_cut**  \n",
    "0: did not make cut  \n",
    "1: made the cut  \n",
    "**pos**  \n",
    "Position of the player in the tournament.  \n",
    "**player**  \n",
    "The player's full name.  \n",
    "**tournament name**\n",
    "Name of the tournament.  \n",
    "**course**  \n",
    "Golf course on which was played.  \n",
    "**date**  \n",
    "Date of the tournament, format YYYY-MM-DD  \n",
    "**season**  \n",
    "Year of the season (2017 - 2022). Keep in mind that season 2017 started in 2016 and so on.  \n",
    "**finish**  \n",
    "Finishing position of the player, if the player was cut the 'Finish' is 'CUT'.  \n",
    "**sg_put**  \n",
    "Shots gained while putting.  \n",
    "**sg_arg**  \n",
    "Shots gained around the green.  \n",
    "**sg_app**  \n",
    "Shots gained during approach.  \n",
    "**sg_ott**  \n",
    "Shots gained off the tee.  \n",
    "**sg_t2g**  \n",
    "Shots gained tee to green.  \n",
    "**sg_total**  \n",
    "Shots gained in total."
   ]
  },
  {
   "cell_type": "code",
   "execution_count": 5,
   "id": "7b8f9b89-b65a-40dd-a956-33cfc1cbc5c2",
   "metadata": {},
   "outputs": [
    {
     "name": "stdout",
     "output_type": "stream",
     "text": [
      "<class 'pandas.core.frame.DataFrame'>\n",
      "RangeIndex: 28525 entries, 0 to 28524\n",
      "Data columns (total 19 columns):\n",
      " #   Column               Non-Null Count  Dtype  \n",
      "---  ------               --------------  -----  \n",
      " 0   player_initial_last  28525 non-null  object \n",
      " 1   tournament_id        28525 non-null  int64  \n",
      " 2   player_id            28525 non-null  int64  \n",
      " 3   hole_par             28525 non-null  int64  \n",
      " 4   strokes              28525 non-null  int64  \n",
      " 5   made_cut             28525 non-null  int64  \n",
      " 6   pos                  16167 non-null  float64\n",
      " 7   player               28525 non-null  object \n",
      " 8   tournament_name      28525 non-null  object \n",
      " 9   course               28525 non-null  object \n",
      " 10  date                 28525 non-null  object \n",
      " 11  season               28525 non-null  int64  \n",
      " 12  finish               23524 non-null  object \n",
      " 13  sg_putt              23523 non-null  float64\n",
      " 14  sg_arg               23523 non-null  float64\n",
      " 15  sg_app               23523 non-null  float64\n",
      " 16  sg_ott               23523 non-null  float64\n",
      " 17  sg_t2g               23523 non-null  float64\n",
      " 18  sg_total             23524 non-null  float64\n",
      "dtypes: float64(7), int64(6), object(6)\n",
      "memory usage: 4.1+ MB\n"
     ]
    }
   ],
   "source": [
    "data.info()"
   ]
  },
  {
   "cell_type": "markdown",
   "id": "736e18b5-5415-41bf-9be7-8296e8c7d90b",
   "metadata": {},
   "source": [
    "## Cleaning up"
   ]
  },
  {
   "cell_type": "markdown",
   "id": "344cacaf-39b1-4050-b941-6e2def5783e5",
   "metadata": {},
   "source": [
    "A lot of columns do not use the data type *object* which is not nice to work with, so we will fix that."
   ]
  },
  {
   "cell_type": "code",
   "execution_count": 6,
   "id": "f3569bb6-2355-4bb9-9d23-39ba8574928f",
   "metadata": {},
   "outputs": [
    {
     "name": "stdout",
     "output_type": "stream",
     "text": [
      "<class 'pandas.core.frame.DataFrame'>\n",
      "RangeIndex: 28525 entries, 0 to 28524\n",
      "Data columns (total 19 columns):\n",
      " #   Column               Non-Null Count  Dtype         \n",
      "---  ------               --------------  -----         \n",
      " 0   player_initial_last  28525 non-null  category      \n",
      " 1   tournament_id        28525 non-null  int64         \n",
      " 2   player_id            28525 non-null  int64         \n",
      " 3   hole_par             28525 non-null  int64         \n",
      " 4   strokes              28525 non-null  int64         \n",
      " 5   made_cut             28525 non-null  int64         \n",
      " 6   pos                  16167 non-null  float64       \n",
      " 7   player               28525 non-null  category      \n",
      " 8   tournament_name      28525 non-null  category      \n",
      " 9   course               28525 non-null  category      \n",
      " 10  date                 28525 non-null  datetime64[ns]\n",
      " 11  season               28525 non-null  int64         \n",
      " 12  finish               23524 non-null  category      \n",
      " 13  sg_putt              23523 non-null  float64       \n",
      " 14  sg_arg               23523 non-null  float64       \n",
      " 15  sg_app               23523 non-null  float64       \n",
      " 16  sg_ott               23523 non-null  float64       \n",
      " 17  sg_t2g               23523 non-null  float64       \n",
      " 18  sg_total             23524 non-null  float64       \n",
      "dtypes: category(5), datetime64[ns](1), float64(7), int64(6)\n",
      "memory usage: 3.3 MB\n"
     ]
    }
   ],
   "source": [
    "data.player_initial_last = data.player_initial_last.astype('category')\n",
    "\n",
    "data.player = data.player.astype('category')\n",
    "\n",
    "data.tournament_name = data.tournament_name.astype('category')\n",
    "\n",
    "data.course = data.course.astype('category')\n",
    "\n",
    "data.date = data.date.astype('datetime64')\n",
    "\n",
    "data.finish = data.finish.astype('category')\n",
    "\n",
    "data.info()"
   ]
  },
  {
   "cell_type": "markdown",
   "id": "f92af029-02b9-4582-93b8-b2065746187b",
   "metadata": {},
   "source": [
    "Let's take a look at a quick statistical overview of the data."
   ]
  },
  {
   "cell_type": "code",
   "execution_count": 7,
   "id": "4cf93587-f473-4a09-b27b-f115256370af",
   "metadata": {},
   "outputs": [
    {
     "data": {
      "text/html": [
       "<div>\n",
       "<style scoped>\n",
       "    .dataframe tbody tr th:only-of-type {\n",
       "        vertical-align: middle;\n",
       "    }\n",
       "\n",
       "    .dataframe tbody tr th {\n",
       "        vertical-align: top;\n",
       "    }\n",
       "\n",
       "    .dataframe thead th {\n",
       "        text-align: right;\n",
       "    }\n",
       "</style>\n",
       "<table border=\"1\" class=\"dataframe\">\n",
       "  <thead>\n",
       "    <tr style=\"text-align: right;\">\n",
       "      <th></th>\n",
       "      <th>tournament_id</th>\n",
       "      <th>player_id</th>\n",
       "      <th>hole_par</th>\n",
       "      <th>strokes</th>\n",
       "      <th>made_cut</th>\n",
       "      <th>pos</th>\n",
       "      <th>season</th>\n",
       "      <th>sg_putt</th>\n",
       "      <th>sg_arg</th>\n",
       "      <th>sg_app</th>\n",
       "      <th>sg_ott</th>\n",
       "      <th>sg_t2g</th>\n",
       "      <th>sg_total</th>\n",
       "    </tr>\n",
       "  </thead>\n",
       "  <tbody>\n",
       "    <tr>\n",
       "      <th>count</th>\n",
       "      <td>2.852500e+04</td>\n",
       "      <td>2.852500e+04</td>\n",
       "      <td>28525.000000</td>\n",
       "      <td>28525.000000</td>\n",
       "      <td>28525.000000</td>\n",
       "      <td>16167.000000</td>\n",
       "      <td>28525.000000</td>\n",
       "      <td>23523.000000</td>\n",
       "      <td>23523.000000</td>\n",
       "      <td>23523.000000</td>\n",
       "      <td>23523.000000</td>\n",
       "      <td>23523.000000</td>\n",
       "      <td>23524.000000</td>\n",
       "    </tr>\n",
       "    <tr>\n",
       "      <th>mean</th>\n",
       "      <td>3.013480e+08</td>\n",
       "      <td>1.022799e+05</td>\n",
       "      <td>224.712428</td>\n",
       "      <td>223.119755</td>\n",
       "      <td>0.598422</td>\n",
       "      <td>33.883714</td>\n",
       "      <td>2019.428466</td>\n",
       "      <td>-0.125924</td>\n",
       "      <td>-0.044617</td>\n",
       "      <td>-0.108220</td>\n",
       "      <td>-0.049563</td>\n",
       "      <td>-0.202325</td>\n",
       "      <td>-0.323437</td>\n",
       "    </tr>\n",
       "    <tr>\n",
       "      <th>std</th>\n",
       "      <td>1.734438e+08</td>\n",
       "      <td>6.523901e+05</td>\n",
       "      <td>70.446659</td>\n",
       "      <td>66.811562</td>\n",
       "      <td>0.490226</td>\n",
       "      <td>22.518739</td>\n",
       "      <td>1.662580</td>\n",
       "      <td>1.121120</td>\n",
       "      <td>0.728476</td>\n",
       "      <td>1.117115</td>\n",
       "      <td>0.803879</td>\n",
       "      <td>1.638853</td>\n",
       "      <td>1.972278</td>\n",
       "    </tr>\n",
       "    <tr>\n",
       "      <th>min</th>\n",
       "      <td>2.689000e+03</td>\n",
       "      <td>5.000000e+00</td>\n",
       "      <td>70.000000</td>\n",
       "      <td>66.000000</td>\n",
       "      <td>0.000000</td>\n",
       "      <td>1.000000</td>\n",
       "      <td>2017.000000</td>\n",
       "      <td>-5.990000</td>\n",
       "      <td>-5.410000</td>\n",
       "      <td>-7.510000</td>\n",
       "      <td>-7.740000</td>\n",
       "      <td>-13.950000</td>\n",
       "      <td>-13.670000</td>\n",
       "    </tr>\n",
       "    <tr>\n",
       "      <th>25%</th>\n",
       "      <td>4.010252e+08</td>\n",
       "      <td>1.264000e+03</td>\n",
       "      <td>143.000000</td>\n",
       "      <td>146.000000</td>\n",
       "      <td>0.000000</td>\n",
       "      <td>15.000000</td>\n",
       "      <td>2018.000000</td>\n",
       "      <td>-0.780000</td>\n",
       "      <td>-0.450000</td>\n",
       "      <td>-0.750000</td>\n",
       "      <td>-0.460000</td>\n",
       "      <td>-1.100000</td>\n",
       "      <td>-1.410000</td>\n",
       "    </tr>\n",
       "    <tr>\n",
       "      <th>50%</th>\n",
       "      <td>4.010566e+08</td>\n",
       "      <td>4.449000e+03</td>\n",
       "      <td>280.000000</td>\n",
       "      <td>271.000000</td>\n",
       "      <td>1.000000</td>\n",
       "      <td>32.000000</td>\n",
       "      <td>2019.000000</td>\n",
       "      <td>-0.040000</td>\n",
       "      <td>-0.010000</td>\n",
       "      <td>-0.010000</td>\n",
       "      <td>0.040000</td>\n",
       "      <td>-0.030000</td>\n",
       "      <td>-0.180000</td>\n",
       "    </tr>\n",
       "    <tr>\n",
       "      <th>75%</th>\n",
       "      <td>4.012430e+08</td>\n",
       "      <td>7.001000e+03</td>\n",
       "      <td>287.000000</td>\n",
       "      <td>281.000000</td>\n",
       "      <td>1.000000</td>\n",
       "      <td>51.000000</td>\n",
       "      <td>2021.000000</td>\n",
       "      <td>0.620000</td>\n",
       "      <td>0.410000</td>\n",
       "      <td>0.635000</td>\n",
       "      <td>0.480000</td>\n",
       "      <td>0.910000</td>\n",
       "      <td>1.040000</td>\n",
       "    </tr>\n",
       "    <tr>\n",
       "      <th>max</th>\n",
       "      <td>4.013669e+08</td>\n",
       "      <td>4.845309e+06</td>\n",
       "      <td>292.000000</td>\n",
       "      <td>313.000000</td>\n",
       "      <td>1.000000</td>\n",
       "      <td>999.000000</td>\n",
       "      <td>2022.000000</td>\n",
       "      <td>4.300000</td>\n",
       "      <td>3.170000</td>\n",
       "      <td>4.140000</td>\n",
       "      <td>2.470000</td>\n",
       "      <td>5.570000</td>\n",
       "      <td>7.010000</td>\n",
       "    </tr>\n",
       "  </tbody>\n",
       "</table>\n",
       "</div>"
      ],
      "text/plain": [
       "       tournament_id     player_id      hole_par       strokes      made_cut  \\\n",
       "count   2.852500e+04  2.852500e+04  28525.000000  28525.000000  28525.000000   \n",
       "mean    3.013480e+08  1.022799e+05    224.712428    223.119755      0.598422   \n",
       "std     1.734438e+08  6.523901e+05     70.446659     66.811562      0.490226   \n",
       "min     2.689000e+03  5.000000e+00     70.000000     66.000000      0.000000   \n",
       "25%     4.010252e+08  1.264000e+03    143.000000    146.000000      0.000000   \n",
       "50%     4.010566e+08  4.449000e+03    280.000000    271.000000      1.000000   \n",
       "75%     4.012430e+08  7.001000e+03    287.000000    281.000000      1.000000   \n",
       "max     4.013669e+08  4.845309e+06    292.000000    313.000000      1.000000   \n",
       "\n",
       "                pos        season       sg_putt        sg_arg        sg_app  \\\n",
       "count  16167.000000  28525.000000  23523.000000  23523.000000  23523.000000   \n",
       "mean      33.883714   2019.428466     -0.125924     -0.044617     -0.108220   \n",
       "std       22.518739      1.662580      1.121120      0.728476      1.117115   \n",
       "min        1.000000   2017.000000     -5.990000     -5.410000     -7.510000   \n",
       "25%       15.000000   2018.000000     -0.780000     -0.450000     -0.750000   \n",
       "50%       32.000000   2019.000000     -0.040000     -0.010000     -0.010000   \n",
       "75%       51.000000   2021.000000      0.620000      0.410000      0.635000   \n",
       "max      999.000000   2022.000000      4.300000      3.170000      4.140000   \n",
       "\n",
       "             sg_ott        sg_t2g      sg_total  \n",
       "count  23523.000000  23523.000000  23524.000000  \n",
       "mean      -0.049563     -0.202325     -0.323437  \n",
       "std        0.803879      1.638853      1.972278  \n",
       "min       -7.740000    -13.950000    -13.670000  \n",
       "25%       -0.460000     -1.100000     -1.410000  \n",
       "50%        0.040000     -0.030000     -0.180000  \n",
       "75%        0.480000      0.910000      1.040000  \n",
       "max        2.470000      5.570000      7.010000  "
      ]
     },
     "execution_count": 7,
     "metadata": {},
     "output_type": "execute_result"
    }
   ],
   "source": [
    "data.describe()"
   ]
  },
  {
   "cell_type": "markdown",
   "id": "ab637c90-88b3-4bb6-8b42-9b54a69a5108",
   "metadata": {},
   "source": [
    "Now let's see how many missing data points we have."
   ]
  },
  {
   "cell_type": "code",
   "execution_count": 8,
   "id": "b8561f5a-e9a5-41f5-8047-9c2f2c4dbb92",
   "metadata": {},
   "outputs": [
    {
     "data": {
      "text/plain": [
       "player_initial_last        0\n",
       "tournament_id              0\n",
       "player_id                  0\n",
       "hole_par                   0\n",
       "strokes                    0\n",
       "made_cut                   0\n",
       "pos                    12358\n",
       "player                     0\n",
       "tournament_name            0\n",
       "course                     0\n",
       "date                       0\n",
       "season                     0\n",
       "finish                  5001\n",
       "sg_putt                 5002\n",
       "sg_arg                  5002\n",
       "sg_app                  5002\n",
       "sg_ott                  5002\n",
       "sg_t2g                  5002\n",
       "sg_total                5001\n",
       "dtype: int64"
      ]
     },
     "execution_count": 8,
     "metadata": {},
     "output_type": "execute_result"
    }
   ],
   "source": [
    "data.isnull().sum()"
   ]
  },
  {
   "cell_type": "code",
   "execution_count": 9,
   "id": "a144173b-b03e-4af9-b747-87342228edfe",
   "metadata": {},
   "outputs": [
    {
     "data": {
      "text/plain": [
       "[Text(0.5, 1.0, 'Missing Data'),\n",
       " Text(0.5, 14.09375, 'Columns'),\n",
       " Text(33.0, 0.5, 'Data Points')]"
      ]
     },
     "execution_count": 9,
     "metadata": {},
     "output_type": "execute_result"
    },
    {
     "data": {
      "image/png": "[encoded data removed]",
      "text/plain": [
       "<Figure size 432x288 with 2 Axes>"
      ]
     },
     "metadata": {
      "needs_background": "light"
     },
     "output_type": "display_data"
    }
   ],
   "source": [
    "sns.heatmap(data.isnull()).set(title = 'Missing Data', xlabel = 'Columns', ylabel = 'Data Points')"
   ]
  },
  {
   "cell_type": "markdown",
   "id": "ce70cfe6-aa77-4a9c-b63d-59c430a77783",
   "metadata": {},
   "source": [
    "As we can see, we have a lot of missing data, especially in the position column, but surprisingly a lot less in the finish column. We will now look into the distribution of the columns with missing data to decide our further strategy.\n",
    "\n",
    "However we can not look at the distribution of 'finish' together with the other columns, because this columns contains categorical data."
   ]
  },
  {
   "cell_type": "code",
   "execution_count": 10,
   "id": "44f0d75e-9a0f-47ef-a7a9-b3e70d981830",
   "metadata": {},
   "outputs": [
    {
     "name": "stderr",
     "output_type": "stream",
     "text": [
      "/Users/lorenztreimer/opt/anaconda3/lib/python3.9/site-packages/seaborn/distributions.py:2619: FutureWarning: `distplot` is a deprecated function and will be removed in a future version. Please adapt your code to use either `displot` (a figure-level function with similar flexibility) or `histplot` (an axes-level function for histograms).\n",
      "  warnings.warn(msg, FutureWarning)\n",
      "/Users/lorenztreimer/opt/anaconda3/lib/python3.9/site-packages/seaborn/distributions.py:2619: FutureWarning: `distplot` is a deprecated function and will be removed in a future version. Please adapt your code to use either `displot` (a figure-level function with similar flexibility) or `histplot` (an axes-level function for histograms).\n",
      "  warnings.warn(msg, FutureWarning)\n",
      "/Users/lorenztreimer/opt/anaconda3/lib/python3.9/site-packages/seaborn/distributions.py:2619: FutureWarning: `distplot` is a deprecated function and will be removed in a future version. Please adapt your code to use either `displot` (a figure-level function with similar flexibility) or `histplot` (an axes-level function for histograms).\n",
      "  warnings.warn(msg, FutureWarning)\n",
      "/Users/lorenztreimer/opt/anaconda3/lib/python3.9/site-packages/seaborn/distributions.py:2619: FutureWarning: `distplot` is a deprecated function and will be removed in a future version. Please adapt your code to use either `displot` (a figure-level function with similar flexibility) or `histplot` (an axes-level function for histograms).\n",
      "  warnings.warn(msg, FutureWarning)\n",
      "/Users/lorenztreimer/opt/anaconda3/lib/python3.9/site-packages/seaborn/distributions.py:2619: FutureWarning: `distplot` is a deprecated function and will be removed in a future version. Please adapt your code to use either `displot` (a figure-level function with similar flexibility) or `histplot` (an axes-level function for histograms).\n",
      "  warnings.warn(msg, FutureWarning)\n",
      "/Users/lorenztreimer/opt/anaconda3/lib/python3.9/site-packages/seaborn/distributions.py:2619: FutureWarning: `distplot` is a deprecated function and will be removed in a future version. Please adapt your code to use either `displot` (a figure-level function with similar flexibility) or `histplot` (an axes-level function for histograms).\n",
      "  warnings.warn(msg, FutureWarning)\n",
      "/Users/lorenztreimer/opt/anaconda3/lib/python3.9/site-packages/seaborn/distributions.py:2619: FutureWarning: `distplot` is a deprecated function and will be removed in a future version. Please adapt your code to use either `displot` (a figure-level function with similar flexibility) or `histplot` (an axes-level function for histograms).\n",
      "  warnings.warn(msg, FutureWarning)\n"
     ]
    },
    {
     "data": {
      "image/png": "[encoded data removed]",
      "text/plain": [
       "<Figure size 2160x2160 with 9 Axes>"
      ]
     },
     "metadata": {
      "needs_background": "light"
     },
     "output_type": "display_data"
    }
   ],
   "source": [
    "# first create a list with the columns that are missing data\n",
    "missing_data_cols = ['pos', 'sg_putt', 'sg_arg', 'sg_app', 'sg_ott', 'sg_t2g', 'sg_total']\n",
    "\n",
    "row = 0\n",
    "col = 0\n",
    "\n",
    "f, ax = plt.subplots(nrows=3, ncols=3, figsize=(30,30))\n",
    "\n",
    "for i, column in enumerate(missing_data_cols):\n",
    "    graph = sns.distplot(data[column], ax=ax[row][col])\n",
    "    graph.set(title = column)\n",
    "    col += 1\n",
    "    if col == 3:\n",
    "        col = 0\n",
    "        row += 1\n",
    "        \n",
    "plt.subplots_adjust(left=None, bottom=None, right=None, top=None, wspace=None, hspace=1)"
   ]
  },
  {
   "cell_type": "markdown",
   "id": "dc61a1f1-98e9-4e24-9a3d-48ec88944035",
   "metadata": {},
   "source": [
    "All of these except for pos look at least close enough to a symmetrical distribution without a lot of outliers to one side, allowing us to use the mean later on to replace the missing values.\n",
    "\n",
    "But for now let's take a look at the finish column."
   ]
  },
  {
   "cell_type": "code",
   "execution_count": 11,
   "id": "320271c4-6344-46f2-9a6e-c4fac266d3cc",
   "metadata": {},
   "outputs": [
    {
     "data": {
      "text/plain": [
       "<AxesSubplot:>"
      ]
     },
     "execution_count": 11,
     "metadata": {},
     "output_type": "execute_result"
    },
    {
     "data": {
      "image/png": "[encoded data removed]",
      "text/plain": [
       "<Figure size 432x288 with 1 Axes>"
      ]
     },
     "metadata": {
      "needs_background": "light"
     },
     "output_type": "display_data"
    }
   ],
   "source": [
    "data['finish'].value_counts().plot(kind='bar')"
   ]
  },
  {
   "cell_type": "markdown",
   "id": "06788b40-2feb-4f7a-98a3-5374bf84993f",
   "metadata": {},
   "source": [
    "__Due to the high amount of categories in the finish column this is basically unreadable.__\n",
    "Let's check the count."
   ]
  },
  {
   "cell_type": "code",
   "execution_count": 12,
   "id": "64aa210d-8d39-4a32-bc8f-b433477925f6",
   "metadata": {},
   "outputs": [
    {
     "data": {
      "text/plain": [
       "CUT    9936\n",
       "T17     244\n",
       "T18     237\n",
       "T35     236\n",
       "T23     235\n",
       "       ... \n",
       "89        1\n",
       "90        1\n",
       "53        1\n",
       "26        1\n",
       "46        1\n",
       "Name: finish, Length: 170, dtype: int64"
      ]
     },
     "execution_count": 12,
     "metadata": {},
     "output_type": "execute_result"
    }
   ],
   "source": [
    "data['finish'].value_counts()"
   ]
  },
  {
   "cell_type": "markdown",
   "id": "860b348f-8ea4-4b53-8297-830ddcb07005",
   "metadata": {},
   "source": [
    "As we already knew, we have a lot of different categories (170).  \n",
    "The most common one being 'CUT', a bunch of good positions outside the top 10, usually tied, which probably is a reason those are so common and a lot of less common lower placements.  \n",
    "\n",
    "Because the finish can (almost always) be deducted from the position, we can take a closer look at the position again jsut for fun.  \n",
    "The finish column is likely going to be *irrelevant further on*, so we could leave it as it is for now."
   ]
  },
  {
   "cell_type": "code",
   "execution_count": 13,
   "id": "3fa81549-f97b-44ca-a412-3daa1c9d3a32",
   "metadata": {},
   "outputs": [
    {
     "data": {
      "text/plain": [
       "<AxesSubplot:>"
      ]
     },
     "execution_count": 13,
     "metadata": {},
     "output_type": "execute_result"
    },
    {
     "data": {
      "image/png": "[encoded data removed]",
      "text/plain": [
       "<Figure size 432x288 with 1 Axes>"
      ]
     },
     "metadata": {
      "needs_background": "light"
     },
     "output_type": "display_data"
    }
   ],
   "source": [
    "data['pos'].value_counts().plot(kind='box')"
   ]
  },
  {
   "cell_type": "code",
   "execution_count": 14,
   "id": "e2d79fa7-7f60-48d7-9357-7aa24e80f9b6",
   "metadata": {},
   "outputs": [
    {
     "data": {
      "text/plain": [
       "<AxesSubplot:ylabel='Frequency'>"
      ]
     },
     "execution_count": 14,
     "metadata": {},
     "output_type": "execute_result"
    },
    {
     "data": {
      "image/png": "[encoded data removed]",
      "text/plain": [
       "<Figure size 432x288 with 1 Axes>"
      ]
     },
     "metadata": {
      "needs_background": "light"
     },
     "output_type": "display_data"
    }
   ],
   "source": [
    "data['pos'].value_counts().plot(kind='hist')"
   ]
  },
  {
   "cell_type": "code",
   "execution_count": 15,
   "id": "6bdf5e79-bc31-4d4a-9b78-85b236d99185",
   "metadata": {},
   "outputs": [
    {
     "data": {
      "text/plain": [
       "0    2.0\n",
       "dtype: float64"
      ]
     },
     "execution_count": 15,
     "metadata": {},
     "output_type": "execute_result"
    }
   ],
   "source": [
    "data['pos'].mode()"
   ]
  },
  {
   "cell_type": "markdown",
   "id": "be23c25f-26e1-45bc-a90c-700f3a774702",
   "metadata": {},
   "source": [
    "The distribution of 'pos' is looking pretty much as expected, but it's better to move and finally take care of the missing values in actually relevant columns.\n",
    "\n",
    "### Strategy for replacing missing values\n",
    "We will replace all missing values - excluding 'pos' and 'finish' with the mean grouped by player_id, because the distributions appear to be very symmetrical.  \n",
    "For 'pos' we will use the median per palyer_id, not the mode, because the data is skewed, but the mode is 2, which does not make sense as a value to replace the missing data, because that amount of 2nd places is highly unlikely."
   ]
  },
  {
   "cell_type": "code",
   "execution_count": 16,
   "id": "c23a9823-740a-4d9e-b863-8d7b867c9bca",
   "metadata": {},
   "outputs": [],
   "source": [
    "data['pos'].fillna(data.groupby('player_id')['pos'].transform('median'), inplace=True)\n",
    "\n",
    "data['sg_putt'].fillna(data.groupby('player_id')['sg_putt'].transform('mean'), inplace=True)\n",
    "data['sg_arg'].fillna(data.groupby('player_id')['sg_arg'].transform('mean'), inplace=True)\n",
    "data['sg_app'].fillna(data.groupby('player_id')['sg_app'].transform('mean'), inplace=True)\n",
    "data['sg_ott'].fillna(data.groupby('player_id')['sg_ott'].transform('mean'), inplace=True)\n",
    "data['sg_t2g'].fillna(data.groupby('player_id')['sg_t2g'].transform('mean'), inplace=True)\n",
    "data['sg_total'].fillna(data.groupby('player_id')['sg_total'].transform('mean'), inplace=True)"
   ]
  },
  {
   "cell_type": "markdown",
   "id": "6a7e3056-2f6b-4586-b6b2-f0ec154da859",
   "metadata": {},
   "source": [
    "Let's see if there is any missing values outside of 'finish' left."
   ]
  },
  {
   "cell_type": "code",
   "execution_count": 17,
   "id": "c853dd63-002d-48bb-939a-883a47e8bead",
   "metadata": {},
   "outputs": [
    {
     "data": {
      "text/plain": [
       "player_initial_last       0\n",
       "tournament_id             0\n",
       "player_id                 0\n",
       "hole_par                  0\n",
       "strokes                   0\n",
       "made_cut                  0\n",
       "pos                     222\n",
       "player                    0\n",
       "tournament_name           0\n",
       "course                    0\n",
       "date                      0\n",
       "season                    0\n",
       "finish                 5001\n",
       "sg_putt                 124\n",
       "sg_arg                  124\n",
       "sg_app                  124\n",
       "sg_ott                  124\n",
       "sg_t2g                  124\n",
       "sg_total                124\n",
       "dtype: int64"
      ]
     },
     "execution_count": 17,
     "metadata": {},
     "output_type": "execute_result"
    }
   ],
   "source": [
    "data.isnull().sum()"
   ]
  },
  {
   "cell_type": "markdown",
   "id": "30e7ef53-7d1d-4cc7-838e-b3b142b0b643",
   "metadata": {},
   "source": [
    "There are still values missing, meaning that we were not able to replace them with the mean/median of the corresponding player_id, telling us that some players were missing all of the data in those columns.  \n",
    "We have the possibilities of either dropping and disregarding all of those players or using the overall mean/median.  \n",
    "I chose to use the overall values here."
   ]
  },
  {
   "cell_type": "code",
   "execution_count": 18,
   "id": "6b401313-6501-4d3a-8984-7522b5776b8e",
   "metadata": {},
   "outputs": [],
   "source": [
    "# list to make it more readable\n",
    "cols_missing_vals = ['sg_putt', 'sg_arg', 'sg_app', 'sg_ott', 'sg_t2g', 'sg_total']\n",
    "# replace the missing values\n",
    "data[cols_missing_vals] = data[cols_missing_vals].fillna(data[cols_missing_vals].mean())\n",
    "\n",
    "data['pos'] = data['pos'].fillna(data['pos'].mean())"
   ]
  },
  {
   "cell_type": "markdown",
   "id": "5b7a389f-0e11-4cf2-9b30-d023d732862a",
   "metadata": {},
   "source": [
    "And check for missing values again."
   ]
  },
  {
   "cell_type": "code",
   "execution_count": 19,
   "id": "63c2cd47-6aa1-4ab3-80b5-21f08448ead4",
   "metadata": {},
   "outputs": [
    {
     "data": {
      "text/plain": [
       "player_initial_last       0\n",
       "tournament_id             0\n",
       "player_id                 0\n",
       "hole_par                  0\n",
       "strokes                   0\n",
       "made_cut                  0\n",
       "pos                       0\n",
       "player                    0\n",
       "tournament_name           0\n",
       "course                    0\n",
       "date                      0\n",
       "season                    0\n",
       "finish                 5001\n",
       "sg_putt                   0\n",
       "sg_arg                    0\n",
       "sg_app                    0\n",
       "sg_ott                    0\n",
       "sg_t2g                    0\n",
       "sg_total                  0\n",
       "dtype: int64"
      ]
     },
     "execution_count": 19,
     "metadata": {},
     "output_type": "execute_result"
    }
   ],
   "source": [
    "data.isnull().sum()"
   ]
  },
  {
   "cell_type": "markdown",
   "id": "f013fa91-39f0-4df5-8170-4ba8270f44af",
   "metadata": {},
   "source": [
    "Ok, no missing values besides the finish column which I chose to ignore."
   ]
  },
  {
   "cell_type": "markdown",
   "id": "8795c510-23e3-47d4-b395-c3d588df8a96",
   "metadata": {},
   "source": [
    "## Looking at the players\n",
    "Now I want to look some players I like and find interesting.  \n",
    "I will start by creating functions, so the code is reproducable for several players."
   ]
  },
  {
   "cell_type": "code",
   "execution_count": 20,
   "id": "b0cd46de-5dba-43c8-9597-12e5b26ef098",
   "metadata": {},
   "outputs": [],
   "source": [
    "# func to get amount of cuts made ot not made for a player\n",
    "def pl_cut(name, output=True, dic=True):\n",
    "    '''\n",
    "    :parameter: name: string of a players full name like in column 'player'\n",
    "    :parameter: output: True prints out the results, False returns them as variable, default: True\n",
    "    :parameter: dic: (output needs to be False!) True to return a dict, false to return a tuple\n",
    "    :return: amount_cut_not_made: number of times player has not made the cut\n",
    "    :return: amount_cut_made: number of times a player has made the cut\n",
    "    '''\n",
    "    # find amount of times player has not made the cut\n",
    "    player_cut = data[data['player']==name][data[data['player']==name]['made_cut']==0]\n",
    "    amount_cut_not_made = player_cut['made_cut'].count()\n",
    "    \n",
    "    # find amount of times player has made the cut\n",
    "    player_cut = data[data['player']==name][data[data['player']==name]['made_cut']==1]\n",
    "    amount_cut_made = player_cut['made_cut'].count()\n",
    "    \n",
    "    if output:\n",
    "        # print out the results (default)\n",
    "        print(f'{name}\\nCut not made: {amount_cut_not_made}\\nCut made: {amount_cut_made}')\n",
    "    elif dic:\n",
    "        # return values in dict\n",
    "        return {'Amount_cut_not_made':amount_cut_not_made, 'Amount_cut_made':amount_cut_made}\n",
    "    else:\n",
    "        # return the values\n",
    "        return amount_cut_not_made, amount_cut_made"
   ]
  },
  {
   "cell_type": "code",
   "execution_count": 21,
   "id": "1e05b359-c431-46fb-9a83-f6bf303a1ba7",
   "metadata": {},
   "outputs": [],
   "source": [
    "# func to get the mean of shots gained in each part of the game\n",
    "def pl_mean_sg(name, output=True, dic=True):\n",
    "    '''\n",
    "    :parameter: name: string of a players full name like in column 'player'\n",
    "    :parameter: output: True prints out the results, False returns them as variable, default: True\n",
    "    :parameter: dic: (output needs to be False!) True to return a dict, false to return a tuple\n",
    "    :return: either dict with mean shots gained per part of the game or tuple\n",
    "    '''\n",
    "    # compute the means\n",
    "    sg_putt_mean = data[data['player']==name]['sg_putt'].mean()\n",
    "    sg_arg_mean = data[data['player']==name]['sg_arg'].mean()\n",
    "    sg_app_mean = data[data['player']==name]['sg_app'].mean()\n",
    "    sg_ott_mean = data[data['player']==name]['sg_ott'].mean()\n",
    "    sg_t2g_mean = data[data['player']==name]['sg_t2g'].mean()\n",
    "    sg_total_mean = data[data['player']==name]['sg_total'].mean()\n",
    "    \n",
    "    if output:\n",
    "        # print result (default)\n",
    "        print(f'{name}\\nSG putt mean: {sg_putt_mean}\\nSG ARG mean: {sg_arg_mean}\\nSG App mean: {sg_app_mean}\\nSG OTT mean: {sg_ott_mean}\\nSG T2G mean: {sg_t2g_mean}\\nSG total mean: {sg_total_mean}')\n",
    "    elif dic:\n",
    "        # return results as dict\n",
    "        return {'Putting':sg_putt_mean, 'Around_the_Green':sg_arg_mean, 'Approach':sg_app_mean, \n",
    "                'Off_the_Tee':sg_ott_mean, 'Tee_to_Green':sg_t2g_mean, 'Total':sg_total_mean}\n",
    "    else:\n",
    "        return sg_putt_mean, sg_arg_mean, sg_app_mean, sg_ott_mean, sg_t2g_mean, sg_total_mean"
   ]
  },
  {
   "cell_type": "code",
   "execution_count": 22,
   "id": "7b08d2d0-ae15-461e-ab47-8b77b374ee82",
   "metadata": {},
   "outputs": [],
   "source": [
    "# func to get part of game with max shots gained for a player (disregarding total and t2g)\n",
    "def pl_minmax_sg(sg_dict, output=True, dict=True):\n",
    "    '''\n",
    "    :parameter: sg_dict: dict with shots gained and the part of game as key (!!!use pl_mean_sg with output=False!!!)\n",
    "    :parameter: output: True prints out the results, False returns them as variable, default: True\n",
    "    :parameter: dic: (output needs to be False!) True to return a dict, false to return a tuple\n",
    "    :return: either dict with part of game with min and max shots gained or a tuple\n",
    "    '''\n",
    "    # remove total and t2g, as they are expected to always be the highest\n",
    "    sg_dict.pop('Total')\n",
    "    sg_dict.pop('Tee_to_Green')\n",
    "    \n",
    "    # get the corresponding key for the min and max values\n",
    "    min_sg = min(sg_dict, key=sg_dict.get)\n",
    "    max_sg = max(sg_dict, key=sg_dict.get)\n",
    "    \n",
    "    if output:\n",
    "        print(f'Min. shots gained: {min_sg}\\nMax. shots gained: {max_sg}')\n",
    "    elif dict:\n",
    "        return {'Min_SG':min_sg, 'Max_SG':max_sg}\n",
    "    else:\n",
    "        return min_sg, max_sg"
   ]
  },
  {
   "cell_type": "markdown",
   "id": "38bfb8a4-dc42-4ac5-a63b-e596daa4db9f",
   "metadata": {},
   "source": [
    "## Taking a look at Justin Thomas\n",
    "I am starting by taking a closer look at Justin Thomas' game."
   ]
  },
  {
   "cell_type": "code",
   "execution_count": 23,
   "id": "89967fec-2503-4989-9ebf-2145af4de053",
   "metadata": {},
   "outputs": [
    {
     "data": {
      "text/plain": [
       "{'Amount_cut_not_made': 16, 'Amount_cut_made': 103}"
      ]
     },
     "execution_count": 23,
     "metadata": {},
     "output_type": "execute_result"
    }
   ],
   "source": [
    "pl_cut('Justin Thomas', output=False)"
   ]
  },
  {
   "cell_type": "markdown",
   "id": "f6588129-af8a-472a-afc2-ec38b726e66d",
   "metadata": {},
   "source": [
    "#### Cuts made by Justin Thomas\n",
    "Justin Thomas made 103 cuts out of 119 between 2017 and 2022."
   ]
  },
  {
   "cell_type": "markdown",
   "id": "97ce2a13-c499-44c0-a368-753da08f9b18",
   "metadata": {},
   "source": [
    "#### In which part of his game does Justin Thomas gain the most or least shots?"
   ]
  },
  {
   "cell_type": "code",
   "execution_count": 24,
   "id": "9b864b9d-fe49-42f9-aa9e-1d542bf504db",
   "metadata": {},
   "outputs": [
    {
     "name": "stdout",
     "output_type": "stream",
     "text": [
      "Justin Thomas\n",
      "SG putt mean: 0.028571428571428536\n",
      "SG ARG mean: 0.2958241758241756\n",
      "SG App mean: 0.7691208791208786\n",
      "SG OTT mean: 0.3531868131868133\n",
      "SG T2G mean: 1.418241758241758\n",
      "SG total mean: 1.4606593406593396\n"
     ]
    }
   ],
   "source": [
    "pl_mean_sg('Justin Thomas')"
   ]
  },
  {
   "cell_type": "code",
   "execution_count": 25,
   "id": "e5af86be-1c1c-48ca-aad8-035d36cb5674",
   "metadata": {},
   "outputs": [
    {
     "name": "stdout",
     "output_type": "stream",
     "text": [
      "Min. shots gained: Putting\n",
      "Max. shots gained: Approach\n"
     ]
    }
   ],
   "source": [
    "pl_minmax_sg(pl_mean_sg('Justin Thomas', output=False))"
   ]
  },
  {
   "cell_type": "markdown",
   "id": "ec80a091-1618-40ee-b671-c376c65a653f",
   "metadata": {},
   "source": [
    "Justin Thomas has the highest amount of shots gained during his approach while he struggles with gaining shots whilst putting.  \n",
    "This is disregarding shots gained in total and tee to green, as these values are expected to always be the highest and including them would give us no interesting information about the players game."
   ]
  },
  {
   "cell_type": "markdown",
   "id": "ee3ba946-1c36-4e6d-9678-1f34de290734",
   "metadata": {},
   "source": [
    "## Taking a Look at Rory McIlroy"
   ]
  },
  {
   "cell_type": "code",
   "execution_count": 31,
   "id": "227c99cc-1783-42b6-be55-d84209e3e954",
   "metadata": {},
   "outputs": [
    {
     "name": "stdout",
     "output_type": "stream",
     "text": [
      "Rory McIlroy\n",
      "Cut not made: 11\n",
      "Cut made: 82\n"
     ]
    }
   ],
   "source": [
    "pl_cut('Rory McIlroy')"
   ]
  },
  {
   "cell_type": "markdown",
   "id": "28349b93-275f-41d0-81e9-73fce65f93ef",
   "metadata": {},
   "source": [
    "Rory McIlroy made 82 cuts while being cut 11 times, which makes less successful in making cuts than Justin Thomas."
   ]
  },
  {
   "cell_type": "code",
   "execution_count": 32,
   "id": "7735aa51-e461-41b2-aad8-4e07acbd73ae",
   "metadata": {},
   "outputs": [
    {
     "name": "stdout",
     "output_type": "stream",
     "text": [
      "Rory McIlroy\n",
      "SG putt mean: 0.04298507462686569\n",
      "SG ARG mean: 0.20582089552238816\n",
      "SG App mean: 0.43044776119402983\n",
      "SG OTT mean: 0.8032835820895522\n",
      "SG T2G mean: 1.4389552238805965\n",
      "SG total mean: 1.4817910447761191\n"
     ]
    }
   ],
   "source": [
    "pl_mean_sg('Rory McIlroy')"
   ]
  },
  {
   "cell_type": "code",
   "execution_count": 33,
   "id": "c916ee7b-6cbb-4c67-9d6c-51d41e0490d0",
   "metadata": {},
   "outputs": [
    {
     "name": "stdout",
     "output_type": "stream",
     "text": [
      "Min. shots gained: Putting\n",
      "Max. shots gained: Off_the_Tee\n"
     ]
    }
   ],
   "source": [
    "pl_minmax_sg(pl_mean_sg('Rory McIlroy', output=False))"
   ]
  },
  {
   "cell_type": "markdown",
   "id": "81d231eb-495c-4f17-aa58-79423e00c7f1",
   "metadata": {},
   "source": [
    "Just like Justin Thomas Rory McIlroy has the least shots gained while putting. While Justin Thomas is strong under approach Rory McIlroy seems to be a lot stronger off the tee where you would ususally expect him to use the woods more.  \n",
    "\n",
    "Next I want to look at a player that is known for his short game around the green.  \n",
    "## Taking a Look at Phil Mickelson"
   ]
  },
  {
   "cell_type": "code",
   "execution_count": 34,
   "id": "67efdcf9-ee7a-4ddd-ade0-3374531775c4",
   "metadata": {},
   "outputs": [
    {
     "name": "stdout",
     "output_type": "stream",
     "text": [
      "Phil Mickelson\n",
      "Cut not made: 28\n",
      "Cut made: 75\n"
     ]
    }
   ],
   "source": [
    "pl_cut('Phil Mickelson')"
   ]
  },
  {
   "cell_type": "code",
   "execution_count": 35,
   "id": "788e4cbc-3805-43f5-9808-7ee4935c9bdc",
   "metadata": {},
   "outputs": [
    {
     "name": "stdout",
     "output_type": "stream",
     "text": [
      "Phil Mickelson\n",
      "SG putt mean: 0.07953488372093025\n",
      "SG ARG mean: 0.0963953488372093\n",
      "SG App mean: -0.00569767441860459\n",
      "SG OTT mean: -0.20139534883720936\n",
      "SG T2G mean: -0.11069767441860479\n",
      "SG total mean: -0.06476744186046522\n"
     ]
    }
   ],
   "source": [
    "pl_mean_sg('Phil Mickelson')"
   ]
  },
  {
   "cell_type": "code",
   "execution_count": 36,
   "id": "4c386baf-2c10-43f9-8155-d8af97fc3ca8",
   "metadata": {},
   "outputs": [
    {
     "name": "stdout",
     "output_type": "stream",
     "text": [
      "Min. shots gained: Off_the_Tee\n",
      "Max. shots gained: Around_the_Green\n"
     ]
    }
   ],
   "source": [
    "pl_minmax_sg(pl_mean_sg('Phil Mickelson', output=False))"
   ]
  },
  {
   "cell_type": "markdown",
   "id": "46d719a1-2d7c-425d-855d-bcc3b7326ddf",
   "metadata": {},
   "source": [
    "As expected Phil Mickelson excels around the green as he is rightfully known to be a brilliant player when it comes to using his wedges. Compared to the other player I looked at so far he also is doing better with putting. However the rest of his game is looking worse."
   ]
  },
  {
   "cell_type": "code",
   "execution_count": null,
   "id": "775a8ff6-8193-4fea-990e-c0e1cbf9d2cf",
   "metadata": {},
   "outputs": [],
   "source": []
  }
 ],
 "metadata": {
  "kernelspec": {
   "display_name": "Python 3 (ipykernel)",
   "language": "python",
   "name": "python3"
  },
  "language_info": {
   "codemirror_mode": {
    "name": "ipython",
    "version": 3
   },
   "file_extension": ".py",
   "mimetype": "text/x-python",
   "name": "python",
   "nbconvert_exporter": "python",
   "pygments_lexer": "ipython3",
   "version": "3.9.7"
  }
 },
 "nbformat": 4,
 "nbformat_minor": 5
}
